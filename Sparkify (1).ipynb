{
 "cells": [
  {
   "cell_type": "markdown",
   "metadata": {},
   "source": [
    "# Sparkify Project Workspace\n",
    "This workspace contains a tiny subset (128MB) of the full dataset available (12GB). Feel free to use this workspace to build your project, or to explore a smaller subset with Spark before deploying your cluster on the cloud. Instructions for setting up your Spark cluster is included in the last lesson of the Extracurricular Spark Course content.\n",
    "\n",
    "You can follow the steps below to guide your data analysis and model building portion of this project."
   ]
  },
  {
   "cell_type": "code",
   "execution_count": 1,
   "metadata": {},
   "outputs": [
    {
     "name": "stdout",
     "output_type": "stream",
     "text": [
      "Requirement already satisfied: pyspark in /opt/spark-2.4.3-bin-hadoop2.7/python (2.4.3)\r\n",
      "Requirement already satisfied: py4j==0.10.7 in /opt/conda/lib/python3.6/site-packages (from pyspark) (0.10.7)\r\n"
     ]
    }
   ],
   "source": [
    "\n",
    "!pip install pyspark"
   ]
  },
  {
   "cell_type": "code",
   "execution_count": 2,
   "metadata": {},
   "outputs": [],
   "source": [
    "# import libraries\n",
    "from pyspark.sql import SparkSession\n",
    "from pyspark.sql.functions import avg,col,concat,lit,min,max,split,udf,last,when\n",
    "from pyspark.sql.types import IntegerType\n",
    "from pyspark.sql.window import Window\n",
    "from pyspark.sql.functions import sum as Fsum\n",
    "from pyspark.ml import Pipeline\n",
    "from pyspark.ml.evaluation import MulticlassClassificationEvaluator\n",
    "from pyspark.ml.classification import LogisticRegression,RandomForestClassifier,LinearSVC\n",
    "from pyspark.ml.feature import CountVectorizer,IDF,Normalizer,PCA,RegexTokenizer,StandardScaler,VectorAssembler\n",
    "from pyspark.ml.regression import LinearRegression\n",
    "from pyspark.ml.tuning import CrossValidator,ParamGridBuilder\n",
    "import re\n",
    "import datetime\n",
    "import time\n",
    "import pandas as pd\n",
    "import numpy as np\n",
    "import matplotlib.pyplot as plt\n",
    "% matplotlib inline"
   ]
  },
  {
   "cell_type": "code",
   "execution_count": 3,
   "metadata": {},
   "outputs": [],
   "source": [
    "# create a Spark session\n",
    "spark=SparkSession.builder\\\n",
    "      .master(\"local\")\\\n",
    "      .appName(\"SparkifyProject\")\\\n",
    "      .getOrCreate()"
   ]
  },
  {
   "cell_type": "markdown",
   "metadata": {},
   "source": [
    "# Load and Clean Dataset\n",
    "In this workspace, the mini-dataset file is `mini_sparkify_event_data.json`. Load and clean the dataset, checking for invalid or missing data - for example, records without userids or sessionids. "
   ]
  },
  {
   "cell_type": "code",
   "execution_count": 4,
   "metadata": {},
   "outputs": [
    {
     "data": {
      "text/plain": [
       "DataFrame[artist: string, auth: string, firstName: string, gender: string, itemInSession: bigint, lastName: string, length: double, level: string, location: string, method: string, page: string, registration: bigint, sessionId: bigint, song: string, status: bigint, ts: bigint, userAgent: string, userId: string]"
      ]
     },
     "execution_count": 4,
     "metadata": {},
     "output_type": "execute_result"
    }
   ],
   "source": [
    "df=spark.read.json(\"mini_sparkify_event_data.json\")\n",
    "df.persist()"
   ]
  },
  {
   "cell_type": "code",
   "execution_count": 5,
   "metadata": {},
   "outputs": [
    {
     "data": {
      "text/plain": [
       "18"
      ]
     },
     "execution_count": 5,
     "metadata": {},
     "output_type": "execute_result"
    }
   ],
   "source": [
    "len(df.columns)"
   ]
  },
  {
   "cell_type": "code",
   "execution_count": 6,
   "metadata": {},
   "outputs": [
    {
     "data": {
      "text/plain": [
       "286500"
      ]
     },
     "execution_count": 6,
     "metadata": {},
     "output_type": "execute_result"
    }
   ],
   "source": [
    "#To check the rows in dataframe\n",
    "df.count()"
   ]
  },
  {
   "cell_type": "code",
   "execution_count": 7,
   "metadata": {},
   "outputs": [
    {
     "name": "stdout",
     "output_type": "stream",
     "text": [
      "root\n",
      " |-- artist: string (nullable = true)\n",
      " |-- auth: string (nullable = true)\n",
      " |-- firstName: string (nullable = true)\n",
      " |-- gender: string (nullable = true)\n",
      " |-- itemInSession: long (nullable = true)\n",
      " |-- lastName: string (nullable = true)\n",
      " |-- length: double (nullable = true)\n",
      " |-- level: string (nullable = true)\n",
      " |-- location: string (nullable = true)\n",
      " |-- method: string (nullable = true)\n",
      " |-- page: string (nullable = true)\n",
      " |-- registration: long (nullable = true)\n",
      " |-- sessionId: long (nullable = true)\n",
      " |-- song: string (nullable = true)\n",
      " |-- status: long (nullable = true)\n",
      " |-- ts: long (nullable = true)\n",
      " |-- userAgent: string (nullable = true)\n",
      " |-- userId: string (nullable = true)\n",
      "\n"
     ]
    }
   ],
   "source": [
    "df.printSchema()"
   ]
  },
  {
   "cell_type": "code",
   "execution_count": 8,
   "metadata": {},
   "outputs": [],
   "source": [
    "#Convert into pandas dataframe for better understanding\n",
    "df_pandas=df.toPandas()"
   ]
  },
  {
   "cell_type": "code",
   "execution_count": 9,
   "metadata": {},
   "outputs": [
    {
     "data": {
      "text/html": [
       "<div>\n",
       "<style scoped>\n",
       "    .dataframe tbody tr th:only-of-type {\n",
       "        vertical-align: middle;\n",
       "    }\n",
       "\n",
       "    .dataframe tbody tr th {\n",
       "        vertical-align: top;\n",
       "    }\n",
       "\n",
       "    .dataframe thead th {\n",
       "        text-align: right;\n",
       "    }\n",
       "</style>\n",
       "<table border=\"1\" class=\"dataframe\">\n",
       "  <thead>\n",
       "    <tr style=\"text-align: right;\">\n",
       "      <th></th>\n",
       "      <th>artist</th>\n",
       "      <th>auth</th>\n",
       "      <th>firstName</th>\n",
       "      <th>gender</th>\n",
       "      <th>itemInSession</th>\n",
       "      <th>lastName</th>\n",
       "      <th>length</th>\n",
       "      <th>level</th>\n",
       "      <th>location</th>\n",
       "      <th>method</th>\n",
       "      <th>page</th>\n",
       "      <th>registration</th>\n",
       "      <th>sessionId</th>\n",
       "      <th>song</th>\n",
       "      <th>status</th>\n",
       "      <th>ts</th>\n",
       "      <th>userAgent</th>\n",
       "      <th>userId</th>\n",
       "    </tr>\n",
       "  </thead>\n",
       "  <tbody>\n",
       "    <tr>\n",
       "      <th>0</th>\n",
       "      <td>Martha Tilston</td>\n",
       "      <td>Logged In</td>\n",
       "      <td>Colin</td>\n",
       "      <td>M</td>\n",
       "      <td>50</td>\n",
       "      <td>Freeman</td>\n",
       "      <td>277.89016</td>\n",
       "      <td>paid</td>\n",
       "      <td>Bakersfield, CA</td>\n",
       "      <td>PUT</td>\n",
       "      <td>NextSong</td>\n",
       "      <td>1.538173e+12</td>\n",
       "      <td>29</td>\n",
       "      <td>Rockpools</td>\n",
       "      <td>200</td>\n",
       "      <td>1538352117000</td>\n",
       "      <td>Mozilla/5.0 (Windows NT 6.1; WOW64; rv:31.0) G...</td>\n",
       "      <td>30</td>\n",
       "    </tr>\n",
       "    <tr>\n",
       "      <th>1</th>\n",
       "      <td>Five Iron Frenzy</td>\n",
       "      <td>Logged In</td>\n",
       "      <td>Micah</td>\n",
       "      <td>M</td>\n",
       "      <td>79</td>\n",
       "      <td>Long</td>\n",
       "      <td>236.09424</td>\n",
       "      <td>free</td>\n",
       "      <td>Boston-Cambridge-Newton, MA-NH</td>\n",
       "      <td>PUT</td>\n",
       "      <td>NextSong</td>\n",
       "      <td>1.538332e+12</td>\n",
       "      <td>8</td>\n",
       "      <td>Canada</td>\n",
       "      <td>200</td>\n",
       "      <td>1538352180000</td>\n",
       "      <td>\"Mozilla/5.0 (Windows NT 6.1; WOW64) AppleWebK...</td>\n",
       "      <td>9</td>\n",
       "    </tr>\n",
       "    <tr>\n",
       "      <th>2</th>\n",
       "      <td>Adam Lambert</td>\n",
       "      <td>Logged In</td>\n",
       "      <td>Colin</td>\n",
       "      <td>M</td>\n",
       "      <td>51</td>\n",
       "      <td>Freeman</td>\n",
       "      <td>282.82730</td>\n",
       "      <td>paid</td>\n",
       "      <td>Bakersfield, CA</td>\n",
       "      <td>PUT</td>\n",
       "      <td>NextSong</td>\n",
       "      <td>1.538173e+12</td>\n",
       "      <td>29</td>\n",
       "      <td>Time For Miracles</td>\n",
       "      <td>200</td>\n",
       "      <td>1538352394000</td>\n",
       "      <td>Mozilla/5.0 (Windows NT 6.1; WOW64; rv:31.0) G...</td>\n",
       "      <td>30</td>\n",
       "    </tr>\n",
       "    <tr>\n",
       "      <th>3</th>\n",
       "      <td>Enigma</td>\n",
       "      <td>Logged In</td>\n",
       "      <td>Micah</td>\n",
       "      <td>M</td>\n",
       "      <td>80</td>\n",
       "      <td>Long</td>\n",
       "      <td>262.71302</td>\n",
       "      <td>free</td>\n",
       "      <td>Boston-Cambridge-Newton, MA-NH</td>\n",
       "      <td>PUT</td>\n",
       "      <td>NextSong</td>\n",
       "      <td>1.538332e+12</td>\n",
       "      <td>8</td>\n",
       "      <td>Knocking On Forbidden Doors</td>\n",
       "      <td>200</td>\n",
       "      <td>1538352416000</td>\n",
       "      <td>\"Mozilla/5.0 (Windows NT 6.1; WOW64) AppleWebK...</td>\n",
       "      <td>9</td>\n",
       "    </tr>\n",
       "    <tr>\n",
       "      <th>4</th>\n",
       "      <td>Daft Punk</td>\n",
       "      <td>Logged In</td>\n",
       "      <td>Colin</td>\n",
       "      <td>M</td>\n",
       "      <td>52</td>\n",
       "      <td>Freeman</td>\n",
       "      <td>223.60771</td>\n",
       "      <td>paid</td>\n",
       "      <td>Bakersfield, CA</td>\n",
       "      <td>PUT</td>\n",
       "      <td>NextSong</td>\n",
       "      <td>1.538173e+12</td>\n",
       "      <td>29</td>\n",
       "      <td>Harder Better Faster Stronger</td>\n",
       "      <td>200</td>\n",
       "      <td>1538352676000</td>\n",
       "      <td>Mozilla/5.0 (Windows NT 6.1; WOW64; rv:31.0) G...</td>\n",
       "      <td>30</td>\n",
       "    </tr>\n",
       "  </tbody>\n",
       "</table>\n",
       "</div>"
      ],
      "text/plain": [
       "             artist       auth firstName gender  itemInSession lastName  \\\n",
       "0    Martha Tilston  Logged In     Colin      M             50  Freeman   \n",
       "1  Five Iron Frenzy  Logged In     Micah      M             79     Long   \n",
       "2      Adam Lambert  Logged In     Colin      M             51  Freeman   \n",
       "3            Enigma  Logged In     Micah      M             80     Long   \n",
       "4         Daft Punk  Logged In     Colin      M             52  Freeman   \n",
       "\n",
       "      length level                        location method      page  \\\n",
       "0  277.89016  paid                 Bakersfield, CA    PUT  NextSong   \n",
       "1  236.09424  free  Boston-Cambridge-Newton, MA-NH    PUT  NextSong   \n",
       "2  282.82730  paid                 Bakersfield, CA    PUT  NextSong   \n",
       "3  262.71302  free  Boston-Cambridge-Newton, MA-NH    PUT  NextSong   \n",
       "4  223.60771  paid                 Bakersfield, CA    PUT  NextSong   \n",
       "\n",
       "   registration  sessionId                           song  status  \\\n",
       "0  1.538173e+12         29                      Rockpools     200   \n",
       "1  1.538332e+12          8                         Canada     200   \n",
       "2  1.538173e+12         29              Time For Miracles     200   \n",
       "3  1.538332e+12          8    Knocking On Forbidden Doors     200   \n",
       "4  1.538173e+12         29  Harder Better Faster Stronger     200   \n",
       "\n",
       "              ts                                          userAgent userId  \n",
       "0  1538352117000  Mozilla/5.0 (Windows NT 6.1; WOW64; rv:31.0) G...     30  \n",
       "1  1538352180000  \"Mozilla/5.0 (Windows NT 6.1; WOW64) AppleWebK...      9  \n",
       "2  1538352394000  Mozilla/5.0 (Windows NT 6.1; WOW64; rv:31.0) G...     30  \n",
       "3  1538352416000  \"Mozilla/5.0 (Windows NT 6.1; WOW64) AppleWebK...      9  \n",
       "4  1538352676000  Mozilla/5.0 (Windows NT 6.1; WOW64; rv:31.0) G...     30  "
      ]
     },
     "execution_count": 9,
     "metadata": {},
     "output_type": "execute_result"
    }
   ],
   "source": [
    "df_pandas.head()"
   ]
  },
  {
   "cell_type": "code",
   "execution_count": 10,
   "metadata": {},
   "outputs": [
    {
     "data": {
      "text/plain": [
       "(array(['Logged In', 'Logged Out', 'Cancelled', 'Guest'], dtype=object),\n",
       " array(['M', 'F', None], dtype=object),\n",
       " array(['paid', 'free'], dtype=object),\n",
       " array(['NextSong', 'Add to Playlist', 'Roll Advert', 'Thumbs Up',\n",
       "        'Downgrade', 'Thumbs Down', 'Home', 'Logout', 'Help', 'Login',\n",
       "        'Upgrade', 'Add Friend', 'About', 'Settings', 'Submit Upgrade',\n",
       "        'Submit Downgrade', 'Error', 'Save Settings', 'Cancel',\n",
       "        'Cancellation Confirmation', 'Register', 'Submit Registration'], dtype=object),\n",
       " array([200, 307, 404]))"
      ]
     },
     "execution_count": 10,
     "metadata": {},
     "output_type": "execute_result"
    }
   ],
   "source": [
    "#Let's have a look at the unique values of some columns\n",
    "df_pandas['auth'].unique(),df_pandas['gender'].unique(),df_pandas['level'].unique(),df_pandas['page'].unique(),df_pandas['status'].unique()"
   ]
  },
  {
   "cell_type": "code",
   "execution_count": 11,
   "metadata": {},
   "outputs": [
    {
     "data": {
      "text/plain": [
       "286500"
      ]
     },
     "execution_count": 11,
     "metadata": {},
     "output_type": "execute_result"
    }
   ],
   "source": [
    "# Checking for null values of userids and sessionids\n",
    "df_notnull = df.dropna(how = \"any\", subset = [\"userId\", \"sessionId\"])\n",
    "df_notnull.count()"
   ]
  },
  {
   "cell_type": "code",
   "execution_count": 12,
   "metadata": {},
   "outputs": [
    {
     "data": {
      "text/plain": [
       "8346"
      ]
     },
     "execution_count": 12,
     "metadata": {},
     "output_type": "execute_result"
    }
   ],
   "source": [
    "#Let's check for the values with empty userids and sessionids\n",
    "df.filter(df.userId == '').count()"
   ]
  },
  {
   "cell_type": "code",
   "execution_count": 13,
   "metadata": {},
   "outputs": [
    {
     "data": {
      "text/plain": [
       "0"
      ]
     },
     "execution_count": 13,
     "metadata": {},
     "output_type": "execute_result"
    }
   ],
   "source": [
    "df.filter(df.sessionId == '').count()"
   ]
  },
  {
   "cell_type": "code",
   "execution_count": 14,
   "metadata": {},
   "outputs": [],
   "source": [
    "# Dropping the missing User's ID rows\n",
    "df = df.filter(df.userId != '')\n"
   ]
  },
  {
   "cell_type": "code",
   "execution_count": 15,
   "metadata": {},
   "outputs": [
    {
     "data": {
      "text/plain": [
       "0"
      ]
     },
     "execution_count": 15,
     "metadata": {},
     "output_type": "execute_result"
    }
   ],
   "source": [
    "#Last Check\n",
    "df.filter(df.userId == '').count()"
   ]
  },
  {
   "cell_type": "code",
   "execution_count": 16,
   "metadata": {},
   "outputs": [],
   "source": [
    "df_pandas=df.toPandas()"
   ]
  },
  {
   "cell_type": "code",
   "execution_count": 17,
   "metadata": {},
   "outputs": [
    {
     "data": {
      "text/plain": [
       "(array(['Logged In', 'Cancelled'], dtype=object),\n",
       " array(['M', 'F'], dtype=object),\n",
       " array(['paid', 'free'], dtype=object),\n",
       " array(['NextSong', 'Add to Playlist', 'Roll Advert', 'Thumbs Up',\n",
       "        'Downgrade', 'Thumbs Down', 'Home', 'Logout', 'Help', 'Upgrade',\n",
       "        'Add Friend', 'Settings', 'Submit Upgrade', 'About',\n",
       "        'Submit Downgrade', 'Error', 'Save Settings', 'Cancel',\n",
       "        'Cancellation Confirmation'], dtype=object),\n",
       " array([200, 307, 404]))"
      ]
     },
     "execution_count": 17,
     "metadata": {},
     "output_type": "execute_result"
    }
   ],
   "source": [
    "#Let's have a look at the unique values of some columns\n",
    "df_pandas['auth'].unique(),df_pandas['gender'].unique(),df_pandas['level'].unique(),df_pandas['page'].unique(),df_pandas['status'].unique()"
   ]
  },
  {
   "cell_type": "markdown",
   "metadata": {},
   "source": [
    "### Insight-1:\n",
    "By removing the rows with invalid userId's & sessionId's, we arrive at the following insights:-\n",
    "1. The 'auth' column has dropped two values Logged Out & Guest.\n",
    "2. The 'page' column has dropped 'Login','Register','Submit Registration' values."
   ]
  },
  {
   "cell_type": "markdown",
   "metadata": {},
   "source": [
    "### Conclusion-1:\n",
    "When we are dealing with the rows of empty userId , he/she is a 'Guest' and trying to 'Register' or 'Submit Registration'.\n",
    "When we are dealing with the rows of empty sessionId , he/she has 'Logged Out' and trying to 'Login'.\n",
    "As we removed both the rows, the following rows associated with those values are removed."
   ]
  },
  {
   "cell_type": "markdown",
   "metadata": {},
   "source": [
    "# Exploratory Data Analysis\n",
    "When you're working with the full dataset, perform EDA by loading a small subset of the data and doing basic manipulations within Spark. In this workspace, you are already provided a small subset of data you can explore.\n",
    "\n",
    "### Define Churn\n",
    "\n",
    "Once you've done some preliminary analysis, create a column `Churn` to use as the label for your model. I suggest using the `Cancellation Confirmation` events to define your churn, which happen for both paid and free users. As a bonus task, you can also look into the `Downgrade` events.\n",
    "\n",
    "### Explore Data\n",
    "Once you've defined churn, perform some exploratory data analysis to observe the behavior for users who stayed vs users who churned. You can start by exploring aggregates on these two groups of users, observing how much of a specific action they experienced per a certain time unit or number of songs played."
   ]
  },
  {
   "cell_type": "code",
   "execution_count": 18,
   "metadata": {},
   "outputs": [
    {
     "data": {
      "text/plain": [
       "225"
      ]
     },
     "execution_count": 18,
     "metadata": {},
     "output_type": "execute_result"
    }
   ],
   "source": [
    "#Number of unique userId's in dataset\n",
    "df.select(\"userId\").dropDuplicates().count()\n"
   ]
  },
  {
   "cell_type": "code",
   "execution_count": 19,
   "metadata": {},
   "outputs": [],
   "source": [
    "# Create a column 'churn' to use as label for the model\n",
    "churn=udf(lambda x:1 if x==\"Cancellation Confirmation\" else 0, IntegerType())\n",
    "df=df.withColumn(\"churn\",churn(df.page))"
   ]
  },
  {
   "cell_type": "code",
   "execution_count": 20,
   "metadata": {},
   "outputs": [],
   "source": [
    "#Define window bounds\n",
    "windowval = Window.partitionBy(\"userId\").rangeBetween(Window.unboundedPreceding, Window.unboundedFollowing)\n",
    "# Applying the window\n",
    "df = df.withColumn(\"churn\", Fsum(\"churn\").over(windowval))"
   ]
  },
  {
   "cell_type": "code",
   "execution_count": 21,
   "metadata": {},
   "outputs": [],
   "source": [
    "df_pandas=df.toPandas()"
   ]
  },
  {
   "cell_type": "code",
   "execution_count": 22,
   "metadata": {},
   "outputs": [
    {
     "data": {
      "text/plain": [
       "[Row(artist='Sleeping With Sirens', auth='Logged In', firstName='Darianna', gender='F', itemInSession=0, lastName='Carpenter', length=202.97098, level='free', location='Bridgeport-Stamford-Norwalk, CT', method='PUT', page='NextSong', registration=1538016340000, sessionId=31, song='Captain Tyin Knots VS Mr Walkway (No Way)', status=200, ts=1539003534000, userAgent='\"Mozilla/5.0 (iPhone; CPU iPhone OS 7_1_2 like Mac OS X) AppleWebKit/537.51.2 (KHTML, like Gecko) Version/7.0 Mobile/11D257 Safari/9537.53\"', userId='100010', churn=0),\n",
       " Row(artist='Francesca Battistelli', auth='Logged In', firstName='Darianna', gender='F', itemInSession=1, lastName='Carpenter', length=196.54485, level='free', location='Bridgeport-Stamford-Norwalk, CT', method='PUT', page='NextSong', registration=1538016340000, sessionId=31, song='Beautiful_ Beautiful (Album)', status=200, ts=1539003736000, userAgent='\"Mozilla/5.0 (iPhone; CPU iPhone OS 7_1_2 like Mac OS X) AppleWebKit/537.51.2 (KHTML, like Gecko) Version/7.0 Mobile/11D257 Safari/9537.53\"', userId='100010', churn=0),\n",
       " Row(artist='Brutha', auth='Logged In', firstName='Darianna', gender='F', itemInSession=2, lastName='Carpenter', length=263.13098, level='free', location='Bridgeport-Stamford-Norwalk, CT', method='PUT', page='NextSong', registration=1538016340000, sessionId=31, song=\"She's Gone\", status=200, ts=1539003932000, userAgent='\"Mozilla/5.0 (iPhone; CPU iPhone OS 7_1_2 like Mac OS X) AppleWebKit/537.51.2 (KHTML, like Gecko) Version/7.0 Mobile/11D257 Safari/9537.53\"', userId='100010', churn=0),\n",
       " Row(artist=None, auth='Logged In', firstName='Darianna', gender='F', itemInSession=3, lastName='Carpenter', length=None, level='free', location='Bridgeport-Stamford-Norwalk, CT', method='PUT', page='Thumbs Up', registration=1538016340000, sessionId=31, song=None, status=307, ts=1539003933000, userAgent='\"Mozilla/5.0 (iPhone; CPU iPhone OS 7_1_2 like Mac OS X) AppleWebKit/537.51.2 (KHTML, like Gecko) Version/7.0 Mobile/11D257 Safari/9537.53\"', userId='100010', churn=0),\n",
       " Row(artist='Josh Ritter', auth='Logged In', firstName='Darianna', gender='F', itemInSession=4, lastName='Carpenter', length=316.23791, level='free', location='Bridgeport-Stamford-Norwalk, CT', method='PUT', page='NextSong', registration=1538016340000, sessionId=31, song='Folk Bloodbath', status=200, ts=1539004195000, userAgent='\"Mozilla/5.0 (iPhone; CPU iPhone OS 7_1_2 like Mac OS X) AppleWebKit/537.51.2 (KHTML, like Gecko) Version/7.0 Mobile/11D257 Safari/9537.53\"', userId='100010', churn=0)]"
      ]
     },
     "execution_count": 22,
     "metadata": {},
     "output_type": "execute_result"
    }
   ],
   "source": [
    "df.take(5)"
   ]
  },
  {
   "cell_type": "markdown",
   "metadata": {},
   "source": [
    "### Let's explore the behaviour of users who stayed vs users who churned."
   ]
  },
  {
   "cell_type": "code",
   "execution_count": 23,
   "metadata": {},
   "outputs": [
    {
     "name": "stdout",
     "output_type": "stream",
     "text": [
      "+-----+-----+\n",
      "|churn|count|\n",
      "+-----+-----+\n",
      "|    0|  173|\n",
      "|    1|   52|\n",
      "+-----+-----+\n",
      "\n"
     ]
    }
   ],
   "source": [
    "#How many users are remaining and churned(cancelled)\n",
    "df.dropDuplicates(['userId']).groupby(['churn']).count().show()"
   ]
  },
  {
   "cell_type": "code",
   "execution_count": 24,
   "metadata": {},
   "outputs": [
    {
     "name": "stdout",
     "output_type": "stream",
     "text": [
      "+-----+------+-----+\n",
      "|churn|gender|count|\n",
      "+-----+------+-----+\n",
      "|    0|     F|   84|\n",
      "|    1|     M|   32|\n",
      "|    1|     F|   20|\n",
      "|    0|     M|   89|\n",
      "+-----+------+-----+\n",
      "\n"
     ]
    }
   ],
   "source": [
    "#How many Users based on gender are remaining and churned(cancelled)\n",
    "df.dropDuplicates(['userId','gender']).groupby(['churn','gender']).count().show()\n"
   ]
  },
  {
   "cell_type": "code",
   "execution_count": 25,
   "metadata": {},
   "outputs": [
    {
     "name": "stdout",
     "output_type": "stream",
     "text": [
      "+-----+-----+-----+\n",
      "|churn|level|count|\n",
      "+-----+-----+-----+\n",
      "|    1| paid|   36|\n",
      "|    1| free|   46|\n",
      "|    0| free|  149|\n",
      "|    0| paid|  129|\n",
      "+-----+-----+-----+\n",
      "\n"
     ]
    }
   ],
   "source": [
    "#How many Users based on level are remaining and churned(cancelled)\n",
    "df.dropDuplicates(['userId','level']).groupby(['churn','level']).count().show()"
   ]
  },
  {
   "cell_type": "code",
   "execution_count": 26,
   "metadata": {},
   "outputs": [
    {
     "data": {
      "image/png": "[encoded data removed]",
      "text/plain": [
       "<matplotlib.figure.Figure at 0x7fcd2deb6898>"
      ]
     },
     "metadata": {
      "needs_background": "light"
     },
     "output_type": "display_data"
    }
   ],
   "source": [
    "#Plot some visualisations based on the behaviour of users who stayed vs users who churned. \n",
    "def plot_frequency(subset, group, labels, x_title=\"Number of users\", y_title=\"Subscription status\"):\n",
    "    '''\n",
    "    Plot a visualisation for frequency of users v/s subscription status\n",
    "    Input(s):\n",
    "    subset- Column name for dropping duplicated data\n",
    "    group- Column name based on which grouping is carried out\n",
    "    labels- Label for output data\n",
    "    x_title-Titlte for x axis\n",
    "    y_title-Title for y axis.\n",
    "    \n",
    "    Output: Returns a 1D visualisation based on the inputs.\n",
    "    '''\n",
    "    ax = df_pandas.drop_duplicates(subset=subset).groupby(\n",
    "                                group)['userId'].count().plot(\n",
    "                                kind='barh', figsize=(10,5), \n",
    "                                title='Number of unique users per category');\n",
    "    ax.set_xlabel(x_title);\n",
    "    ax.set_yticklabels(labels, rotation=0)\n",
    "    ax.set_ylabel(y_title);\n",
    "   \n",
    "plot_frequency(['userId'], ['churn'], ['Active', 'Cancelled'])"
   ]
  },
  {
   "cell_type": "markdown",
   "metadata": {},
   "source": [
    "### Conclusion-2:\n",
    "The number of unique users are more active than cancelled users."
   ]
  },
  {
   "cell_type": "code",
   "execution_count": 27,
   "metadata": {},
   "outputs": [
    {
     "data": {
      "image/png": "[encoded data removed]",
      "text/plain": [
       "<matplotlib.figure.Figure at 0x7fcd3e6d6ba8>"
      ]
     },
     "metadata": {
      "needs_background": "light"
     },
     "output_type": "display_data"
    }
   ],
   "source": [
    "plot_frequency(['userId','gender'], ['churn','gender'], ['Active-Female', 'Active-Male','Cancelled-Female','Cancelled-Male'])"
   ]
  },
  {
   "cell_type": "markdown",
   "metadata": {},
   "source": [
    "### Conclusion 3:\n",
    "Males are slightly predominant than females in both active and cancelled subscriptions."
   ]
  },
  {
   "cell_type": "code",
   "execution_count": 28,
   "metadata": {},
   "outputs": [
    {
     "data": {
      "image/png": "[encoded data removed]",
      "text/plain": [
       "<matplotlib.figure.Figure at 0x7fcd2fab1400>"
      ]
     },
     "metadata": {
      "needs_background": "light"
     },
     "output_type": "display_data"
    }
   ],
   "source": [
    "plot_frequency(['userId','level'], ['churn','level'], ['Active-Free', 'Active-Paid','Cancelled-Free','Cancelled-Paid'])"
   ]
  },
  {
   "cell_type": "markdown",
   "metadata": {},
   "source": [
    "### Conclusion 4:\n",
    "Most of the cancelled subscriptions are from 'free' users and the same holds true for active subscriptions."
   ]
  },
  {
   "cell_type": "code",
   "execution_count": 29,
   "metadata": {},
   "outputs": [],
   "source": [
    "df_page = df.select([\"page\",\"churn\"]).groupby([ \"page\",\"churn\"]).count().sort(\"page\")"
   ]
  },
  {
   "cell_type": "code",
   "execution_count": 30,
   "metadata": {},
   "outputs": [],
   "source": [
    "df_page=df_page[df_page[\"page\"]!=\"NextSong\"]"
   ]
  },
  {
   "cell_type": "code",
   "execution_count": 31,
   "metadata": {},
   "outputs": [],
   "source": [
    "df_page_pandas=df_page.toPandas()"
   ]
  },
  {
   "cell_type": "code",
   "execution_count": 32,
   "metadata": {},
   "outputs": [
    {
     "data": {
      "text/html": [
       "<div>\n",
       "<style scoped>\n",
       "    .dataframe tbody tr th:only-of-type {\n",
       "        vertical-align: middle;\n",
       "    }\n",
       "\n",
       "    .dataframe tbody tr th {\n",
       "        vertical-align: top;\n",
       "    }\n",
       "\n",
       "    .dataframe thead th {\n",
       "        text-align: right;\n",
       "    }\n",
       "</style>\n",
       "<table border=\"1\" class=\"dataframe\">\n",
       "  <thead>\n",
       "    <tr style=\"text-align: right;\">\n",
       "      <th></th>\n",
       "      <th>page</th>\n",
       "      <th>churn</th>\n",
       "      <th>count</th>\n",
       "    </tr>\n",
       "  </thead>\n",
       "  <tbody>\n",
       "    <tr>\n",
       "      <th>0</th>\n",
       "      <td>About</td>\n",
       "      <td>1</td>\n",
       "      <td>56</td>\n",
       "    </tr>\n",
       "    <tr>\n",
       "      <th>1</th>\n",
       "      <td>About</td>\n",
       "      <td>0</td>\n",
       "      <td>439</td>\n",
       "    </tr>\n",
       "    <tr>\n",
       "      <th>2</th>\n",
       "      <td>Add Friend</td>\n",
       "      <td>1</td>\n",
       "      <td>636</td>\n",
       "    </tr>\n",
       "    <tr>\n",
       "      <th>3</th>\n",
       "      <td>Add Friend</td>\n",
       "      <td>0</td>\n",
       "      <td>3641</td>\n",
       "    </tr>\n",
       "    <tr>\n",
       "      <th>4</th>\n",
       "      <td>Add to Playlist</td>\n",
       "      <td>1</td>\n",
       "      <td>1038</td>\n",
       "    </tr>\n",
       "  </tbody>\n",
       "</table>\n",
       "</div>"
      ],
      "text/plain": [
       "              page  churn  count\n",
       "0            About      1     56\n",
       "1            About      0    439\n",
       "2       Add Friend      1    636\n",
       "3       Add Friend      0   3641\n",
       "4  Add to Playlist      1   1038"
      ]
     },
     "execution_count": 32,
     "metadata": {},
     "output_type": "execute_result"
    }
   ],
   "source": [
    "df_page_pandas.head()"
   ]
  },
  {
   "cell_type": "code",
   "execution_count": 33,
   "metadata": {},
   "outputs": [],
   "source": [
    "import seaborn as sns"
   ]
  },
  {
   "cell_type": "code",
   "execution_count": 34,
   "metadata": {},
   "outputs": [
    {
     "data": {
      "image/png": "[encoded data removed]",
      "text/plain": [
       "<matplotlib.figure.Figure at 0x7fcd3ed9e860>"
      ]
     },
     "metadata": {
      "needs_background": "light"
     },
     "output_type": "display_data"
    }
   ],
   "source": [
    "fig, ax = plt.subplots(figsize=(8,8))\n",
    "sns.barplot( x=\"count\",y=\"page\", hue=\"churn\", data=df_page_pandas,ax=ax);\n"
   ]
  },
  {
   "cell_type": "markdown",
   "metadata": {},
   "source": [
    "### Conclusion 5:\n",
    "On the page list, the number of active users are way farther than cancelled users except for 'Cancel' and 'Cancellation Confirmation' pages. Out of all pages, the highest number of active users are visiting 'Thumbs Up','Home','Add to playlist','Add to friend' pages."
   ]
  },
  {
   "cell_type": "code",
   "execution_count": 35,
   "metadata": {},
   "outputs": [],
   "source": [
    "#Exploring how much of a specific action they experienced per a certain time unit \n",
    "# Definig user functions to get hour, day, month from timestamp ts\n",
    "\n",
    "get_hour = udf(lambda x: datetime.datetime.fromtimestamp(x / 1000.0).hour)\n",
    "get_day = udf(lambda x: datetime.datetime.fromtimestamp(x / 1000.0).day)\n",
    "get_month = udf(lambda x: datetime.datetime.fromtimestamp(x / 1000.0).month)\n"
   ]
  },
  {
   "cell_type": "code",
   "execution_count": 36,
   "metadata": {},
   "outputs": [],
   "source": [
    "# Adding them as columns\n",
    "columns={\"hour\":get_hour,\"day\":get_day,\"month\":get_month}\n",
    "for label,col in columns.items():\n",
    "    df=df.withColumn(label,col(df.ts))"
   ]
  },
  {
   "cell_type": "code",
   "execution_count": 37,
   "metadata": {},
   "outputs": [
    {
     "name": "stdout",
     "output_type": "stream",
     "text": [
      "+--------------------+---------+---------+------+-------------+---------+---------+-----+--------------------+------+-----------+-------------+---------+--------------------+------+-------------+--------------------+------+-----+----+---+-----+\n",
      "|              artist|     auth|firstName|gender|itemInSession| lastName|   length|level|            location|method|       page| registration|sessionId|                song|status|           ts|           userAgent|userId|churn|hour|day|month|\n",
      "+--------------------+---------+---------+------+-------------+---------+---------+-----+--------------------+------+-----------+-------------+---------+--------------------+------+-------------+--------------------+------+-----+----+---+-----+\n",
      "|Sleeping With Sirens|Logged In| Darianna|     F|            0|Carpenter|202.97098| free|Bridgeport-Stamfo...|   PUT|   NextSong|1538016340000|       31|Captain Tyin Knot...|   200|1539003534000|\"Mozilla/5.0 (iPh...|100010|    0|  12|  8|   10|\n",
      "|Francesca Battist...|Logged In| Darianna|     F|            1|Carpenter|196.54485| free|Bridgeport-Stamfo...|   PUT|   NextSong|1538016340000|       31|Beautiful_ Beauti...|   200|1539003736000|\"Mozilla/5.0 (iPh...|100010|    0|  13|  8|   10|\n",
      "|              Brutha|Logged In| Darianna|     F|            2|Carpenter|263.13098| free|Bridgeport-Stamfo...|   PUT|   NextSong|1538016340000|       31|          She's Gone|   200|1539003932000|\"Mozilla/5.0 (iPh...|100010|    0|  13|  8|   10|\n",
      "|                null|Logged In| Darianna|     F|            3|Carpenter|     null| free|Bridgeport-Stamfo...|   PUT|  Thumbs Up|1538016340000|       31|                null|   307|1539003933000|\"Mozilla/5.0 (iPh...|100010|    0|  13|  8|   10|\n",
      "|         Josh Ritter|Logged In| Darianna|     F|            4|Carpenter|316.23791| free|Bridgeport-Stamfo...|   PUT|   NextSong|1538016340000|       31|      Folk Bloodbath|   200|1539004195000|\"Mozilla/5.0 (iPh...|100010|    0|  13|  8|   10|\n",
      "|               LMFAO|Logged In| Darianna|     F|            5|Carpenter|183.74485| free|Bridgeport-Stamfo...|   PUT|   NextSong|1538016340000|       31|                 Yes|   200|1539004511000|\"Mozilla/5.0 (iPh...|100010|    0|  13|  8|   10|\n",
      "|         OneRepublic|Logged In| Darianna|     F|            6|Carpenter|224.67873| free|Bridgeport-Stamfo...|   PUT|   NextSong|1538016340000|       31|             Secrets|   200|1539004694000|\"Mozilla/5.0 (iPh...|100010|    0|  13|  8|   10|\n",
      "|       Dwight Yoakam|Logged In| Darianna|     F|            7|Carpenter| 239.3073| free|Bridgeport-Stamfo...|   PUT|   NextSong|1538016340000|       31|      You're The One|   200|1539004918000|\"Mozilla/5.0 (iPh...|100010|    0|  13|  8|   10|\n",
      "|                null|Logged In| Darianna|     F|            8|Carpenter|     null| free|Bridgeport-Stamfo...|   GET|Roll Advert|1538016340000|       31|                null|   200|1539004961000|\"Mozilla/5.0 (iPh...|100010|    0|  13|  8|   10|\n",
      "|      The Chordettes|Logged In| Darianna|     F|            9|Carpenter|142.41914| free|Bridgeport-Stamfo...|   PUT|   NextSong|1538016340000|       31|          Mr Sandman|   200|1539005157000|\"Mozilla/5.0 (iPh...|100010|    0|  13|  8|   10|\n",
      "|Coko featuring Ki...|Logged In| Darianna|     F|           10|Carpenter| 249.3122| free|Bridgeport-Stamfo...|   PUT|   NextSong|1538016340000|       31|           I Get Joy|   200|1539005299000|\"Mozilla/5.0 (iPh...|100010|    0|  13|  8|   10|\n",
      "|            The Cure|Logged In| Darianna|     F|           11|Carpenter| 52.27057| free|Bridgeport-Stamfo...|   PUT|   NextSong|1538016340000|       31|     The Final Sound|   200|1539005548000|\"Mozilla/5.0 (iPh...|100010|    0|  13|  8|   10|\n",
      "|                null|Logged In| Darianna|     F|           12|Carpenter|     null| free|Bridgeport-Stamfo...|   GET|Roll Advert|1538016340000|       31|                null|   200|1539005571000|\"Mozilla/5.0 (iPh...|100010|    0|  13|  8|   10|\n",
      "|Kid Cudi Vs Crookers|Logged In| Darianna|     F|           13|Carpenter|162.97751| free|Bridgeport-Stamfo...|   PUT|   NextSong|1538016340000|       31|        Day 'N' Nite|   200|1539005600000|\"Mozilla/5.0 (iPh...|100010|    0|  13|  8|   10|\n",
      "|                null|Logged In| Darianna|     F|           14|Carpenter|     null| free|Bridgeport-Stamfo...|   PUT|  Thumbs Up|1538016340000|       31|                null|   307|1539005601000|\"Mozilla/5.0 (iPh...|100010|    0|  13|  8|   10|\n",
      "|            Yeasayer|Logged In| Darianna|     F|           15|Carpenter|323.44771| free|Bridgeport-Stamfo...|   PUT|   NextSong|1538016340000|       31|                2080|   200|1539005762000|\"Mozilla/5.0 (iPh...|100010|    0|  13|  8|   10|\n",
      "|             Ben Lee|Logged In| Darianna|     F|           16|Carpenter|245.78567| free|Bridgeport-Stamfo...|   PUT|   NextSong|1538016340000|       31|        Ache For You|   200|1539006085000|\"Mozilla/5.0 (iPh...|100010|    0|  13|  8|   10|\n",
      "|                null|Logged In| Darianna|     F|           17|Carpenter|     null| free|Bridgeport-Stamfo...|   GET|Roll Advert|1538016340000|       31|                null|   200|1539006103000|\"Mozilla/5.0 (iPh...|100010|    0|  13|  8|   10|\n",
      "|  ? & The Mysterians|Logged In| Darianna|     F|           18|Carpenter|128.10404| free|Bridgeport-Stamfo...|   PUT|   NextSong|1538016340000|       31|    Just Like A Rose|   200|1539006330000|\"Mozilla/5.0 (iPh...|100010|    0|  13|  8|   10|\n",
      "|                null|Logged In| Darianna|     F|           19|Carpenter|     null| free|Bridgeport-Stamfo...|   GET|Roll Advert|1538016340000|       31|                null|   200|1539006331000|\"Mozilla/5.0 (iPh...|100010|    0|  13|  8|   10|\n",
      "+--------------------+---------+---------+------+-------------+---------+---------+-----+--------------------+------+-----------+-------------+---------+--------------------+------+-------------+--------------------+------+-----+----+---+-----+\n",
      "only showing top 20 rows\n",
      "\n"
     ]
    }
   ],
   "source": [
    "df.show()"
   ]
  },
  {
   "cell_type": "code",
   "execution_count": 38,
   "metadata": {},
   "outputs": [],
   "source": [
    "# Count the number of songs in each hour of day and store it in a pandas dataframe\n",
    "songs_in_hour = df.select([\"churn\",\"hour\"]).filter(df.page == 'NextSong').groupby([\"churn\",\"hour\"]).count().orderBy(df.hour.cast(\"int\"))"
   ]
  },
  {
   "cell_type": "code",
   "execution_count": 39,
   "metadata": {},
   "outputs": [
    {
     "name": "stdout",
     "output_type": "stream",
     "text": [
      "+-----+----+-----+\n",
      "|churn|hour|count|\n",
      "+-----+----+-----+\n",
      "|    1|   0| 1535|\n",
      "|    0|   0| 7527|\n",
      "|    0|   1| 7035|\n",
      "|    1|   1| 1353|\n",
      "|    0|   2| 7014|\n",
      "|    1|   2| 1322|\n",
      "|    1|   3| 1292|\n",
      "|    0|   3| 7063|\n",
      "|    1|   4| 1233|\n",
      "|    0|   4| 6914|\n",
      "|    1|   5| 1218|\n",
      "|    0|   5| 6960|\n",
      "|    1|   6| 1218|\n",
      "|    0|   6| 6836|\n",
      "|    0|   7| 6873|\n",
      "|    1|   7| 1218|\n",
      "|    1|   8| 1230|\n",
      "|    0|   8| 7023|\n",
      "|    0|   9| 7268|\n",
      "|    1|   9| 1230|\n",
      "+-----+----+-----+\n",
      "only showing top 20 rows\n",
      "\n"
     ]
    }
   ],
   "source": [
    "songs_in_hour.show()"
   ]
  },
  {
   "cell_type": "code",
   "execution_count": 40,
   "metadata": {},
   "outputs": [],
   "source": [
    "songs_in_hour_pd=songs_in_hour.toPandas()"
   ]
  },
  {
   "cell_type": "code",
   "execution_count": 41,
   "metadata": {},
   "outputs": [
    {
     "data": {
      "image/png": "[encoded data removed]",
      "text/plain": [
       "<matplotlib.figure.Figure at 0x7fcd3ed9e400>"
      ]
     },
     "metadata": {
      "needs_background": "light"
     },
     "output_type": "display_data"
    }
   ],
   "source": [
    "fig, ax = plt.subplots(figsize=(8,8))\n",
    "sns.barplot( x=\"hour\",y=\"count\", hue=\"churn\", data=songs_in_hour_pd,ax=ax,order=list(map(lambda x: str(x),range(24))));\n",
    "plt.ylabel(\"Number of users\")\n",
    "plt.title(\"Number of users per category listening to songs based on hour \");"
   ]
  },
  {
   "cell_type": "markdown",
   "metadata": {},
   "source": [
    "### Conclusion 6:\n",
    "Most of the users are listening to the songs between 15th and 18th hours."
   ]
  },
  {
   "cell_type": "code",
   "execution_count": 42,
   "metadata": {},
   "outputs": [],
   "source": [
    "# Count the number of songs in each day of month and store it in a pandas dataframe\n",
    "songs_in_day = df.select([\"churn\",\"day\"]).filter(df.page == 'NextSong').groupby([\"churn\",\"day\"]).count().orderBy(df.day.cast(\"int\"))"
   ]
  },
  {
   "cell_type": "code",
   "execution_count": 43,
   "metadata": {},
   "outputs": [
    {
     "name": "stdout",
     "output_type": "stream",
     "text": [
      "+-----+---+-----+\n",
      "|churn|day|count|\n",
      "+-----+---+-----+\n",
      "|    0|  1| 7575|\n",
      "|    1|  1| 1612|\n",
      "|    0|  2| 7668|\n",
      "|    1|  2| 1978|\n",
      "|    0|  3| 4869|\n",
      "|    1|  3| 1542|\n",
      "|    1|  4| 1262|\n",
      "|    0|  4| 4467|\n",
      "|    0|  5| 5267|\n",
      "|    1|  5| 1599|\n",
      "|    1|  6|  790|\n",
      "|    0|  6| 6006|\n",
      "|    0|  7| 4906|\n",
      "|    1|  7| 1011|\n",
      "|    0|  8| 5793|\n",
      "|    1|  8| 1597|\n",
      "|    1|  9| 2050|\n",
      "|    0|  9| 7167|\n",
      "|    1| 10| 1883|\n",
      "|    0| 10| 5908|\n",
      "+-----+---+-----+\n",
      "only showing top 20 rows\n",
      "\n"
     ]
    }
   ],
   "source": [
    "songs_in_day.show()"
   ]
  },
  {
   "cell_type": "code",
   "execution_count": 44,
   "metadata": {},
   "outputs": [],
   "source": [
    "songs_in_day_pd=songs_in_day.toPandas()"
   ]
  },
  {
   "cell_type": "code",
   "execution_count": 45,
   "metadata": {},
   "outputs": [
    {
     "data": {
      "image/png": "[encoded data removed]",
      "text/plain": [
       "<matplotlib.figure.Figure at 0x7fcd2d0990b8>"
      ]
     },
     "metadata": {
      "needs_background": "light"
     },
     "output_type": "display_data"
    }
   ],
   "source": [
    "fig, ax = plt.subplots(figsize=(20,10))\n",
    "sns.barplot( x=\"day\",y=\"count\", hue=\"churn\", data=songs_in_day_pd,ax=ax,order=list(map(lambda x: str(x),range(32))));\n",
    "plt.ylabel(\"Number of users\")\n",
    "plt.title(\"Number of users per category listening to songs based on day \");"
   ]
  },
  {
   "cell_type": "markdown",
   "metadata": {},
   "source": [
    "### Conclusion 7:\n",
    "The no of users listening to the songs are increasing and decreasing , no particular trend is observed."
   ]
  },
  {
   "cell_type": "code",
   "execution_count": 46,
   "metadata": {},
   "outputs": [],
   "source": [
    "# Count the number of songs in each month of year and store it in a pandas dataframe\n",
    "songs_in_month = df.select([\"churn\",\"month\"]).filter(df.page == 'NextSong').groupby([\"churn\",\"month\"]).count().orderBy(df.month.cast(\"int\"))"
   ]
  },
  {
   "cell_type": "code",
   "execution_count": 47,
   "metadata": {},
   "outputs": [],
   "source": [
    "songs_in_month_pd=songs_in_month.toPandas()"
   ]
  },
  {
   "cell_type": "code",
   "execution_count": 48,
   "metadata": {},
   "outputs": [
    {
     "data": {
      "image/png": "[encoded data removed]",
      "text/plain": [
       "<matplotlib.figure.Figure at 0x7fcd47070b00>"
      ]
     },
     "metadata": {
      "needs_background": "light"
     },
     "output_type": "display_data"
    }
   ],
   "source": [
    "fig, ax = plt.subplots(figsize=(10,8))\n",
    "sns.barplot( x=\"month\",y=\"count\", hue=\"churn\", data=songs_in_month_pd,ax=ax);\n",
    "plt.ylabel(\"Number of users\")\n",
    "plt.title(\"Number of users per category listening to songs based on month \");"
   ]
  },
  {
   "cell_type": "markdown",
   "metadata": {},
   "source": [
    "### Conclusion 8:\n",
    "As the data is limited to 2 months,There is not much data to explore about the number of users listening to songs in a particular month of the year."
   ]
  },
  {
   "cell_type": "markdown",
   "metadata": {},
   "source": [
    "# Feature Engineering\n",
    "Once you've familiarized yourself with the data, build out the features you find promising to train your model on. To work with the full dataset, you can follow the following steps.\n",
    "- Write a script to extract the necessary features from the smaller subset of data\n",
    "- Ensure that your script is scalable, using the best practices discussed in Lesson 3\n",
    "- Try your script on the full data set, debugging your script if necessary\n",
    "\n",
    "If you are working in the classroom workspace, you can just extract features based on the small subset of data contained here. Be sure to transfer over this work to the larger dataset when you work on your Spark cluster."
   ]
  },
  {
   "cell_type": "markdown",
   "metadata": {},
   "source": [
    "#### We will extract the following features to help create the model:\n",
    "\n",
    "1) Total no of songs listened\n",
    "\n",
    "2) Gender\n",
    "\n",
    "3) Paid or Free users\n",
    "\n",
    "4) Average songs played per session\n",
    "\n",
    "5) Number of Thumbs up\n",
    "\n",
    "6) Number of Thumbs down\n",
    "\n",
    "7) Number of songs added to the playlist\n",
    "\n",
    "8) Total number of friends\n",
    "\n",
    "9) Churn(target)"
   ]
  },
  {
   "cell_type": "code",
   "execution_count": 49,
   "metadata": {},
   "outputs": [],
   "source": [
    "features=[]"
   ]
  },
  {
   "cell_type": "markdown",
   "metadata": {},
   "source": [
    "### 1) Total no of songs listened"
   ]
  },
  {
   "cell_type": "code",
   "execution_count": 50,
   "metadata": {},
   "outputs": [],
   "source": [
    "df_songs_listened=df.select(['userId','page']).where(df.page==\"NextSong\").groupby(['userId']).count().withColumnRenamed('count','no_of_songs')"
   ]
  },
  {
   "cell_type": "code",
   "execution_count": 51,
   "metadata": {},
   "outputs": [
    {
     "name": "stdout",
     "output_type": "stream",
     "text": [
      "+------+-----------+\n",
      "|userId|no_of_songs|\n",
      "+------+-----------+\n",
      "|100010|        275|\n",
      "|200002|        387|\n",
      "|   125|          8|\n",
      "|    51|       2111|\n",
      "|   124|       4079|\n",
      "|     7|        150|\n",
      "|    54|       2841|\n",
      "|    15|       1914|\n",
      "|   155|        820|\n",
      "|   132|       1928|\n",
      "|   154|         84|\n",
      "|100014|        257|\n",
      "|   101|       1797|\n",
      "|    11|        647|\n",
      "|   138|       2070|\n",
      "|300017|       3632|\n",
      "|    29|       3028|\n",
      "|    69|       1125|\n",
      "|100021|        230|\n",
      "|    42|       3573|\n",
      "+------+-----------+\n",
      "only showing top 20 rows\n",
      "\n"
     ]
    }
   ],
   "source": [
    "df_songs_listened.show()"
   ]
  },
  {
   "cell_type": "code",
   "execution_count": 52,
   "metadata": {},
   "outputs": [],
   "source": [
    "features.append(df_songs_listened)"
   ]
  },
  {
   "cell_type": "markdown",
   "metadata": {},
   "source": [
    "### 2) Gender"
   ]
  },
  {
   "cell_type": "code",
   "execution_count": 53,
   "metadata": {},
   "outputs": [],
   "source": [
    "# Set Male to 0 and Female to 1\n",
    "get_gender=udf(lambda x:1 if x=='F' else 0,IntegerType())"
   ]
  },
  {
   "cell_type": "code",
   "execution_count": 54,
   "metadata": {},
   "outputs": [],
   "source": [
    "df=df.withColumn('isfemale',get_gender(df.gender))"
   ]
  },
  {
   "cell_type": "code",
   "execution_count": 55,
   "metadata": {},
   "outputs": [],
   "source": [
    "df_gender=df.dropDuplicates(['userId']).select(['userId', 'isfemale']).groupby('userId') .agg(max('isfemale')).withColumnRenamed('max(isfemale)','is_female')"
   ]
  },
  {
   "cell_type": "code",
   "execution_count": 56,
   "metadata": {},
   "outputs": [
    {
     "name": "stdout",
     "output_type": "stream",
     "text": [
      "+------+---------+\n",
      "|userId|is_female|\n",
      "+------+---------+\n",
      "|100010|        1|\n",
      "|200002|        0|\n",
      "|   125|        0|\n",
      "|    51|        0|\n",
      "|   124|        1|\n",
      "|     7|        0|\n",
      "|    54|        1|\n",
      "|    15|        0|\n",
      "|   155|        1|\n",
      "|   132|        1|\n",
      "|   154|        1|\n",
      "|100014|        0|\n",
      "|   101|        0|\n",
      "|    11|        1|\n",
      "|   138|        0|\n",
      "|300017|        1|\n",
      "|    29|        0|\n",
      "|    69|        1|\n",
      "|100021|        0|\n",
      "|    42|        1|\n",
      "+------+---------+\n",
      "only showing top 20 rows\n",
      "\n"
     ]
    }
   ],
   "source": [
    "df_gender.show()"
   ]
  },
  {
   "cell_type": "code",
   "execution_count": 57,
   "metadata": {},
   "outputs": [],
   "source": [
    "features.append(df_gender)"
   ]
  },
  {
   "cell_type": "markdown",
   "metadata": {},
   "source": [
    "### 3) Paid or Free users"
   ]
  },
  {
   "cell_type": "code",
   "execution_count": 58,
   "metadata": {},
   "outputs": [],
   "source": [
    "# Set paid users to 1 and free users to 0\n",
    "\n",
    "get_level = udf(lambda x: 1 if x == 'paid' else 0, IntegerType())\n",
    "# Apply the udf to create a new numeric \"level\" column\n",
    "df = df.withColumn('isPaid', get_level(df.level))\n",
    "\n",
    "df_level = df.dropDuplicates(['userId']).select(['userId', 'isPaid']) \\\n",
    "                                                                .groupby('userId').agg(max('isPaid')) \\\n",
    "                                                                .withColumnRenamed('max(isPaid)', 'isPaid')\n"
   ]
  },
  {
   "cell_type": "code",
   "execution_count": 59,
   "metadata": {},
   "outputs": [
    {
     "name": "stdout",
     "output_type": "stream",
     "text": [
      "+------+------+\n",
      "|userId|isPaid|\n",
      "+------+------+\n",
      "|100010|     0|\n",
      "|200002|     0|\n",
      "|   125|     0|\n",
      "|    51|     1|\n",
      "|   124|     1|\n",
      "|     7|     0|\n",
      "|    54|     1|\n",
      "|    15|     1|\n",
      "|   155|     0|\n",
      "|   132|     0|\n",
      "|   154|     0|\n",
      "|100014|     1|\n",
      "|   101|     0|\n",
      "|    11|     0|\n",
      "|   138|     0|\n",
      "|300017|     1|\n",
      "|    29|     0|\n",
      "|    69|     0|\n",
      "|100021|     0|\n",
      "|    42|     0|\n",
      "+------+------+\n",
      "only showing top 20 rows\n",
      "\n"
     ]
    }
   ],
   "source": [
    "df_level.show()"
   ]
  },
  {
   "cell_type": "code",
   "execution_count": 60,
   "metadata": {},
   "outputs": [],
   "source": [
    "features.append(df_level)"
   ]
  },
  {
   "cell_type": "markdown",
   "metadata": {},
   "source": [
    "### 4) Average songs played per session"
   ]
  },
  {
   "cell_type": "code",
   "execution_count": 61,
   "metadata": {},
   "outputs": [],
   "source": [
    "df_songs_per_session=df.where(df.song.isNotNull()).groupby(['userId', 'sessionId']).count()"
   ]
  },
  {
   "cell_type": "code",
   "execution_count": 62,
   "metadata": {},
   "outputs": [],
   "source": [
    "df_avg_songs_per_session=df_songs_per_session.groupby(['userId']).agg({'count': 'avg'})"
   ]
  },
  {
   "cell_type": "code",
   "execution_count": 63,
   "metadata": {},
   "outputs": [
    {
     "name": "stdout",
     "output_type": "stream",
     "text": [
      "+------+------------------+\n",
      "|userId|        avg(count)|\n",
      "+------+------------------+\n",
      "|100010|39.285714285714285|\n",
      "|200002|              64.5|\n",
      "|   125|               8.0|\n",
      "|    51|             211.1|\n",
      "|   124|145.67857142857142|\n",
      "|     7|21.428571428571427|\n",
      "|    54| 81.17142857142858|\n",
      "|    15|136.71428571428572|\n",
      "|   155|136.66666666666666|\n",
      "|100014|42.833333333333336|\n",
      "|   132|             120.5|\n",
      "|   154|              28.0|\n",
      "|   101|             179.7|\n",
      "|    11|           40.4375|\n",
      "|300017|59.540983606557376|\n",
      "|   138|             138.0|\n",
      "|    29| 89.05882352941177|\n",
      "|    69|             125.0|\n",
      "|100021|              46.0|\n",
      "|    42| 87.14634146341463|\n",
      "+------+------------------+\n",
      "only showing top 20 rows\n",
      "\n"
     ]
    }
   ],
   "source": [
    "df_avg_songs_per_session.show()"
   ]
  },
  {
   "cell_type": "code",
   "execution_count": 64,
   "metadata": {},
   "outputs": [],
   "source": [
    "df_avg_songs_per_session=df_avg_songs_per_session.withColumnRenamed('avg(count)', 'avg_songs_per_session')"
   ]
  },
  {
   "cell_type": "code",
   "execution_count": 65,
   "metadata": {},
   "outputs": [
    {
     "name": "stdout",
     "output_type": "stream",
     "text": [
      "+------+---------------------+\n",
      "|userId|avg_songs_per_session|\n",
      "+------+---------------------+\n",
      "|100010|   39.285714285714285|\n",
      "|200002|                 64.5|\n",
      "|   125|                  8.0|\n",
      "|    51|                211.1|\n",
      "|   124|   145.67857142857142|\n",
      "+------+---------------------+\n",
      "only showing top 5 rows\n",
      "\n"
     ]
    }
   ],
   "source": [
    "df_avg_songs_per_session.show(5)"
   ]
  },
  {
   "cell_type": "code",
   "execution_count": 66,
   "metadata": {},
   "outputs": [],
   "source": [
    "features.append(df_avg_songs_per_session)"
   ]
  },
  {
   "cell_type": "markdown",
   "metadata": {},
   "source": [
    "### 5) Number of Thumbs up"
   ]
  },
  {
   "cell_type": "code",
   "execution_count": 67,
   "metadata": {},
   "outputs": [],
   "source": [
    "df_thumbs_up=df.select(['userId','page']).where(df.page==\"Thumbs Up\").groupby(['userId']).count().withColumnRenamed('count','no_of_thumbsup')"
   ]
  },
  {
   "cell_type": "code",
   "execution_count": 68,
   "metadata": {},
   "outputs": [
    {
     "name": "stdout",
     "output_type": "stream",
     "text": [
      "+------+--------------+\n",
      "|userId|no_of_thumbsup|\n",
      "+------+--------------+\n",
      "|100010|            17|\n",
      "|200002|            21|\n",
      "|    51|           100|\n",
      "|   124|           171|\n",
      "|     7|             7|\n",
      "|    54|           163|\n",
      "|    15|            81|\n",
      "|   155|            58|\n",
      "|   132|            96|\n",
      "|   154|            11|\n",
      "|100014|            17|\n",
      "|   101|            86|\n",
      "|    11|            40|\n",
      "|   138|            95|\n",
      "|300017|           303|\n",
      "|    29|           154|\n",
      "|    69|            72|\n",
      "|100021|            11|\n",
      "|    42|           166|\n",
      "|   112|             9|\n",
      "+------+--------------+\n",
      "only showing top 20 rows\n",
      "\n"
     ]
    }
   ],
   "source": [
    "df_thumbs_up.show()"
   ]
  },
  {
   "cell_type": "code",
   "execution_count": 69,
   "metadata": {},
   "outputs": [],
   "source": [
    "features.append(df_thumbs_up)"
   ]
  },
  {
   "cell_type": "markdown",
   "metadata": {},
   "source": [
    "### 6) Number of Thumbs down"
   ]
  },
  {
   "cell_type": "code",
   "execution_count": 70,
   "metadata": {},
   "outputs": [],
   "source": [
    "df_thumbs_down=df.select(['userId','page']).where(df.page==\"Thumbs Down\").groupby(['userId']).count().withColumnRenamed('count','no_of_thumbsdown')"
   ]
  },
  {
   "cell_type": "code",
   "execution_count": 71,
   "metadata": {},
   "outputs": [
    {
     "name": "stdout",
     "output_type": "stream",
     "text": [
      "+------+----------------+\n",
      "|userId|no_of_thumbsdown|\n",
      "+------+----------------+\n",
      "|100010|               5|\n",
      "|200002|               6|\n",
      "|    51|              21|\n",
      "|   124|              41|\n",
      "|     7|               1|\n",
      "|    15|              14|\n",
      "|    54|              29|\n",
      "|   155|               3|\n",
      "|   132|              17|\n",
      "|100014|               3|\n",
      "|   101|              16|\n",
      "|    11|               9|\n",
      "|   138|              24|\n",
      "|300017|              28|\n",
      "|    29|              22|\n",
      "|    69|               9|\n",
      "|100021|               5|\n",
      "|    42|              25|\n",
      "|   112|               3|\n",
      "|    73|               7|\n",
      "+------+----------------+\n",
      "only showing top 20 rows\n",
      "\n"
     ]
    }
   ],
   "source": [
    "df_thumbs_down.show()"
   ]
  },
  {
   "cell_type": "code",
   "execution_count": 72,
   "metadata": {},
   "outputs": [],
   "source": [
    "features.append(df_thumbs_down)"
   ]
  },
  {
   "cell_type": "markdown",
   "metadata": {},
   "source": [
    "### 7) Number of songs added to the playlist"
   ]
  },
  {
   "cell_type": "code",
   "execution_count": 73,
   "metadata": {},
   "outputs": [],
   "source": [
    "df_songs_playlist=df.select(['userId','page']).where(df.page==\"Add to Playlist\").groupby(['userId']).count().withColumnRenamed('count','songs_added_to_playlist')"
   ]
  },
  {
   "cell_type": "code",
   "execution_count": 74,
   "metadata": {},
   "outputs": [
    {
     "name": "stdout",
     "output_type": "stream",
     "text": [
      "+------+-----------------------+\n",
      "|userId|songs_added_to_playlist|\n",
      "+------+-----------------------+\n",
      "|100010|                      7|\n",
      "|200002|                      8|\n",
      "|    51|                     52|\n",
      "|   124|                    118|\n",
      "|     7|                      5|\n",
      "|    15|                     59|\n",
      "|    54|                     72|\n",
      "|   155|                     24|\n",
      "|   132|                     38|\n",
      "|   154|                      1|\n",
      "|100014|                      7|\n",
      "|   101|                     61|\n",
      "|    11|                     20|\n",
      "|   138|                     67|\n",
      "|300017|                    113|\n",
      "|    29|                     89|\n",
      "|    69|                     33|\n",
      "|100021|                      7|\n",
      "|    42|                    104|\n",
      "|   112|                      7|\n",
      "+------+-----------------------+\n",
      "only showing top 20 rows\n",
      "\n"
     ]
    }
   ],
   "source": [
    "df_songs_playlist.show()"
   ]
  },
  {
   "cell_type": "code",
   "execution_count": 75,
   "metadata": {},
   "outputs": [],
   "source": [
    "features.append(df_songs_playlist)"
   ]
  },
  {
   "cell_type": "markdown",
   "metadata": {},
   "source": [
    "### 8) Total number of friends"
   ]
  },
  {
   "cell_type": "code",
   "execution_count": 76,
   "metadata": {},
   "outputs": [],
   "source": [
    "df_friends=df.select(['userId','page']).where(df.page==\"Add Friend\").groupby(['userId']).count().withColumnRenamed('count','Friends')"
   ]
  },
  {
   "cell_type": "code",
   "execution_count": 77,
   "metadata": {},
   "outputs": [
    {
     "name": "stdout",
     "output_type": "stream",
     "text": [
      "+------+-------+\n",
      "|userId|Friends|\n",
      "+------+-------+\n",
      "|100010|      4|\n",
      "|200002|      4|\n",
      "|    51|     28|\n",
      "|   124|     74|\n",
      "|     7|      1|\n",
      "|    54|     33|\n",
      "|    15|     31|\n",
      "|   155|     11|\n",
      "|   132|     41|\n",
      "|   154|      3|\n",
      "|100014|      6|\n",
      "|   101|     29|\n",
      "|    11|      6|\n",
      "|   138|     41|\n",
      "|300017|     63|\n",
      "|    29|     47|\n",
      "|    69|     12|\n",
      "|100021|      7|\n",
      "|    42|     52|\n",
      "|   112|      7|\n",
      "+------+-------+\n",
      "only showing top 20 rows\n",
      "\n"
     ]
    }
   ],
   "source": [
    "df_friends.show()"
   ]
  },
  {
   "cell_type": "code",
   "execution_count": 78,
   "metadata": {},
   "outputs": [],
   "source": [
    "features.append(df_friends)"
   ]
  },
  {
   "cell_type": "markdown",
   "metadata": {},
   "source": [
    "### 9) Churn(target)"
   ]
  },
  {
   "cell_type": "code",
   "execution_count": 79,
   "metadata": {},
   "outputs": [],
   "source": [
    "df_churn=df.select('userId', 'churn').dropDuplicates()"
   ]
  },
  {
   "cell_type": "code",
   "execution_count": 80,
   "metadata": {},
   "outputs": [
    {
     "name": "stdout",
     "output_type": "stream",
     "text": [
      "+------+-----+\n",
      "|userId|churn|\n",
      "+------+-----+\n",
      "|100010|    0|\n",
      "|200002|    0|\n",
      "|   125|    1|\n",
      "|   124|    0|\n",
      "|    51|    1|\n",
      "|     7|    0|\n",
      "|    15|    0|\n",
      "|    54|    1|\n",
      "|   155|    0|\n",
      "|100014|    1|\n",
      "|   132|    0|\n",
      "|   154|    0|\n",
      "|   101|    1|\n",
      "|    11|    0|\n",
      "|   138|    0|\n",
      "|300017|    0|\n",
      "|100021|    1|\n",
      "|    29|    1|\n",
      "|    69|    0|\n",
      "|   112|    0|\n",
      "+------+-----+\n",
      "only showing top 20 rows\n",
      "\n"
     ]
    }
   ],
   "source": [
    "df_churn.show()"
   ]
  },
  {
   "cell_type": "code",
   "execution_count": 81,
   "metadata": {},
   "outputs": [],
   "source": [
    "features.append(df_churn)"
   ]
  },
  {
   "cell_type": "code",
   "execution_count": 82,
   "metadata": {},
   "outputs": [
    {
     "name": "stdout",
     "output_type": "stream",
     "text": [
      "[DataFrame[userId: string, no_of_songs: bigint], DataFrame[userId: string, is_female: int], DataFrame[userId: string, isPaid: int], DataFrame[userId: string, avg_songs_per_session: double], DataFrame[userId: string, no_of_thumbsup: bigint], DataFrame[userId: string, no_of_thumbsdown: bigint], DataFrame[userId: string, songs_added_to_playlist: bigint], DataFrame[userId: string, Friends: bigint], DataFrame[userId: string, churn: bigint]]\n"
     ]
    }
   ],
   "source": [
    "print(features)"
   ]
  },
  {
   "cell_type": "code",
   "execution_count": 83,
   "metadata": {},
   "outputs": [
    {
     "name": "stdout",
     "output_type": "stream",
     "text": [
      "+------+-----+-------+-----------------------+----------------+--------------+---------------------+------+---------+-----------+\n",
      "|userId|churn|Friends|songs_added_to_playlist|no_of_thumbsdown|no_of_thumbsup|avg_songs_per_session|isPaid|is_female|no_of_songs|\n",
      "+------+-----+-------+-----------------------+----------------+--------------+---------------------+------+---------+-----------+\n",
      "|100010|    0|      4|                      7|               5|            17|   39.285714285714285|     0|        1|        275|\n",
      "|200002|    0|      4|                      8|               6|            21|                 64.5|     0|        0|        387|\n",
      "|   125|    1|      0|                      0|               0|             0|                  0.0|     0|        0|          0|\n",
      "|   124|    0|     74|                    118|              41|           171|   145.67857142857142|     1|        1|       4079|\n",
      "|    51|    1|     28|                     52|              21|           100|                211.1|     1|        0|       2111|\n",
      "+------+-----+-------+-----------------------+----------------+--------------+---------------------+------+---------+-----------+\n",
      "only showing top 5 rows\n",
      "\n"
     ]
    }
   ],
   "source": [
    "df_final = df_songs_listened\n",
    "\n",
    "def merging_dataframes(df_1,df_2):\n",
    "    '''  \n",
    "    INPUT: \n",
    "    df_1,df_2 - dataframes to be merged\n",
    "    \n",
    "    OUTPUT: \n",
    "    merged_df - merged dataframe\n",
    "    \n",
    "    Description: \n",
    "    Join dataframes\n",
    "    '''\n",
    "    \n",
    "    merged_df = df_2.join(df_1, on=['userId'], how='left')\n",
    "    \n",
    "    return merged_df\n",
    "\n",
    "for feature in features[1:]:\n",
    "    df_final = merging_dataframes(df_final, feature)\n",
    "\n",
    "# fill nans\n",
    "df_final = df_final.na.fill(0).drop('max(isfemale)','totalfriends')\n",
    "df_final.show(5)"
   ]
  },
  {
   "cell_type": "code",
   "execution_count": 84,
   "metadata": {},
   "outputs": [
    {
     "name": "stdout",
     "output_type": "stream",
     "text": [
      "root\n",
      " |-- userId: string (nullable = true)\n",
      " |-- churn: long (nullable = true)\n",
      " |-- Friends: long (nullable = true)\n",
      " |-- songs_added_to_playlist: long (nullable = true)\n",
      " |-- no_of_thumbsdown: long (nullable = true)\n",
      " |-- no_of_thumbsup: long (nullable = true)\n",
      " |-- avg_songs_per_session: double (nullable = false)\n",
      " |-- isPaid: integer (nullable = true)\n",
      " |-- is_female: integer (nullable = true)\n",
      " |-- no_of_songs: long (nullable = true)\n",
      "\n"
     ]
    }
   ],
   "source": [
    "df_final.printSchema()"
   ]
  },
  {
   "cell_type": "markdown",
   "metadata": {},
   "source": [
    "# Modeling\n",
    "Split the full dataset into train, test, and validation sets. Test out several of the machine learning methods you learned. Evaluate the accuracy of the various models, tuning parameters as necessary. Determine your winning model based on test accuracy and report results on the validation set. Since the churned users are a fairly small subset, I suggest using F1 score as the metric to optimize."
   ]
  },
  {
   "cell_type": "code",
   "execution_count": 85,
   "metadata": {},
   "outputs": [
    {
     "data": {
      "text/plain": [
       "['userId',\n",
       " 'churn',\n",
       " 'Friends',\n",
       " 'songs_added_to_playlist',\n",
       " 'no_of_thumbsdown',\n",
       " 'no_of_thumbsup',\n",
       " 'avg_songs_per_session',\n",
       " 'isPaid',\n",
       " 'is_female',\n",
       " 'no_of_songs']"
      ]
     },
     "execution_count": 85,
     "metadata": {},
     "output_type": "execute_result"
    }
   ],
   "source": [
    "df_final.columns"
   ]
  },
  {
   "cell_type": "code",
   "execution_count": 86,
   "metadata": {},
   "outputs": [],
   "source": [
    "# Let's use vector Assembler and Standard Scaler to convert our numeric columns to vectors for ML modelling.\n",
    "assembler= VectorAssembler(inputCols=['Friends',\n",
    " 'songs_added_to_playlist',\n",
    " 'no_of_thumbsdown',\n",
    " 'no_of_thumbsup',\n",
    " 'avg_songs_per_session',\n",
    " 'isPaid',\n",
    " 'is_female',\n",
    " 'no_of_songs'],outputCol='Num_of_features')\n",
    "df_final=assembler.transform(df_final)"
   ]
  },
  {
   "cell_type": "code",
   "execution_count": 87,
   "metadata": {},
   "outputs": [],
   "source": [
    "scaler=StandardScaler(inputCol='Num_of_features',outputCol='scaled_features',withStd=True,withMean=True)"
   ]
  },
  {
   "cell_type": "code",
   "execution_count": 88,
   "metadata": {},
   "outputs": [],
   "source": [
    "scalerModel=scaler.fit(df_final)"
   ]
  },
  {
   "cell_type": "code",
   "execution_count": 89,
   "metadata": {},
   "outputs": [],
   "source": [
    "df_final=scalerModel.transform(df_final)"
   ]
  },
  {
   "cell_type": "code",
   "execution_count": 90,
   "metadata": {},
   "outputs": [],
   "source": [
    "df_final=df_final.select('churn','scaled_features')"
   ]
  },
  {
   "cell_type": "code",
   "execution_count": 91,
   "metadata": {},
   "outputs": [
    {
     "name": "stdout",
     "output_type": "stream",
     "text": [
      "+-----+--------------------+\n",
      "|churn|     scaled_features|\n",
      "+-----+--------------------+\n",
      "|    0|[-0.7292340618073...|\n",
      "|    0|[-0.7292340618073...|\n",
      "|    1|[-0.9235813095498...|\n",
      "|    0|[2.67184277368726...|\n",
      "|    1|[0.43684942464797...|\n",
      "|    0|[-0.8749944976142...|\n",
      "|    0|[0.58260986045488...|\n",
      "|    1|[0.67978348432615...|\n",
      "|    0|[-0.3891263782578...|\n",
      "|    1|[-0.6320604379360...|\n",
      "|    0|[1.06847797981124...|\n",
      "|    0|[-0.7778208737429...|\n",
      "|    1|[0.48543623658360...|\n",
      "|    0|[-0.6320604379360...|\n",
      "|    0|[1.06847797981124...|\n",
      "|    0|[2.13738784239526...|\n",
      "|    1|[-0.5834736260004...|\n",
      "|    1|[1.35999885142507...|\n",
      "|    0|[-0.3405395663222...|\n",
      "|    0|[-0.5834736260004...|\n",
      "+-----+--------------------+\n",
      "only showing top 20 rows\n",
      "\n"
     ]
    }
   ],
   "source": [
    "df_final.show()"
   ]
  },
  {
   "cell_type": "code",
   "execution_count": 92,
   "metadata": {},
   "outputs": [
    {
     "data": {
      "text/plain": [
       "225"
      ]
     },
     "execution_count": 92,
     "metadata": {},
     "output_type": "execute_result"
    }
   ],
   "source": [
    "df_final.count()"
   ]
  },
  {
   "cell_type": "code",
   "execution_count": 93,
   "metadata": {},
   "outputs": [],
   "source": [
    "# Split the train and test datasets\n",
    "train,test=df_final.randomSplit([0.8,0.2],seed=42)"
   ]
  },
  {
   "cell_type": "markdown",
   "metadata": {},
   "source": [
    "### Metrics implemented"
   ]
  },
  {
   "cell_type": "markdown",
   "metadata": {},
   "source": [
    " 1. Accuracy of the various models, tuning parameters as necessary.\n",
    " 2. Since the churned users are a fairly small subset, I am using F1 score as the metric to optimize."
   ]
  },
  {
   "cell_type": "markdown",
   "metadata": {},
   "source": [
    "### Define a function for printing results and final report"
   ]
  },
  {
   "cell_type": "code",
   "execution_count": 94,
   "metadata": {},
   "outputs": [],
   "source": [
    "def print_results(result_name,model_name,start_time,end_time):\n",
    "    ''' \n",
    "    The functions prints the results of some performace metrics and training times.\n",
    "    \n",
    "    INPUT-\n",
    "    result_name: Name in which result is stored\n",
    "    model_name: Name of classification model used\n",
    "    start_time: Start of the trainig time\n",
    "    end_time:End of the training time\n",
    "    \n",
    "    OUTPUT-\n",
    "    List of results'''\n",
    "    \n",
    "    evaluator=MulticlassClassificationEvaluator()\n",
    "    evaluator.setLabelCol('churn')\n",
    "    F1score= evaluator.evaluate(result_name,{evaluator.metricName: \"f1\"})\n",
    "    Accuracy=evaluator.evaluate(result_name,{evaluator.metricName: \"accuracy\"})\n",
    "    time = (end_time - start_time)/60\n",
    "    \n",
    "    result = [model_name,F1score,Accuracy,time]\n",
    "    \n",
    "    print('{} performance metrics:'.format(model_name))\n",
    "    print('F-1 Score: {}'.format(round(F1score,3)))\n",
    "    print('Accuracy: {}'.format(round(Accuracy,3)))\n",
    "    print('Total training time: {} minutes'.format(round(time,2)))\n",
    "    \n",
    "    return result"
   ]
  },
  {
   "cell_type": "code",
   "execution_count": 95,
   "metadata": {},
   "outputs": [],
   "source": [
    "def final_report(result_list):\n",
    "    '''\n",
    "    The function aggregates and prints results of models\n",
    "    INPUT:\n",
    "    result_list : list\n",
    "    \n",
    "    OUTPUT: None\n",
    "   \n",
    "    '''\n",
    "    print(result_list[0])\n",
    "    print('F1 Score: {}'.format(round(result_list[1],3)))\n",
    "    print('Accuracy: {}'.format(round(result_list[2],3)))\n",
    "    print('Total training time: {} minutes'.format(round(result_list[3],2)))\n",
    "    \n",
    "    print()"
   ]
  },
  {
   "cell_type": "markdown",
   "metadata": {},
   "source": [
    "## Train the data using different ML models"
   ]
  },
  {
   "cell_type": "markdown",
   "metadata": {},
   "source": [
    "Let's explore the following classification models:\n",
    "1. Logistic regression model\n",
    "2. Random Forest Classifier\n",
    "3. Support Vector Machine\n"
   ]
  },
  {
   "cell_type": "markdown",
   "metadata": {},
   "source": [
    "### Logistic Regression model"
   ]
  },
  {
   "cell_type": "code",
   "execution_count": 96,
   "metadata": {},
   "outputs": [],
   "source": [
    "\n",
    "lr = LogisticRegression(maxIter=10, labelCol='churn', featuresCol='scaled_features')\n",
    "\n",
    "lr_start = time.time()\n",
    "lr_model = lr.fit(train)\n",
    "lr_end = time.time()"
   ]
  },
  {
   "cell_type": "code",
   "execution_count": 97,
   "metadata": {},
   "outputs": [
    {
     "name": "stdout",
     "output_type": "stream",
     "text": [
      "Logistic Regression performance metrics:\n",
      "F-1 Score: 0.584\n",
      "Accuracy: 0.706\n",
      "Total training time: 1.41 minutes\n"
     ]
    }
   ],
   "source": [
    "lr_results = lr_model.transform(test)\n",
    "\n",
    "lr_report = print_results(lr_results, 'Logistic Regression', lr_start, lr_end)\n",
    "\n"
   ]
  },
  {
   "cell_type": "markdown",
   "metadata": {},
   "source": [
    "### Hyperparameter tuning"
   ]
  },
  {
   "cell_type": "code",
   "execution_count": 98,
   "metadata": {},
   "outputs": [],
   "source": [
    "pipeline = Pipeline(stages=[lr])\n",
    "lr_paramGrid = (ParamGridBuilder()\n",
    "                .addGrid(lr.regParam, [0.1, 0.01, 0.001])\n",
    "                .build())\n",
    "\n",
    "\n",
    "crossval = CrossValidator(\n",
    "    estimator=pipeline,\n",
    "    estimatorParamMaps=lr_paramGrid,\n",
    "    evaluator=MulticlassClassificationEvaluator(labelCol='churn'),\n",
    "    numFolds=3)\n",
    "\n",
    "lr_start = time.time()\n",
    "lr_tunemodel = crossval.fit(train)\n",
    "lr_end = time.time()"
   ]
  },
  {
   "cell_type": "code",
   "execution_count": 99,
   "metadata": {},
   "outputs": [
    {
     "name": "stdout",
     "output_type": "stream",
     "text": [
      "Logistic Regression performance metrics:\n",
      "F-1 Score: 0.584\n",
      "Accuracy: 0.706\n",
      "Total training time: 8.8 minutes\n",
      "Best regression parameter is 0.01\n"
     ]
    }
   ],
   "source": [
    "lr_tuned_results = lr_tunemodel.transform(test)\n",
    "\n",
    "lr_tuned_report = print_results(lr_tuned_results, 'Logistic Regression', lr_start, lr_end)\n",
    "\n",
    "best_param = list(lr_tunemodel.getEstimatorParamMaps()[np.argmax(lr_tunemodel.avgMetrics)].values())\n",
    "print('Best regression parameter is {}'.format(best_param[0]))"
   ]
  },
  {
   "cell_type": "markdown",
   "metadata": {},
   "source": [
    "### Random Forest Classifier"
   ]
  },
  {
   "cell_type": "code",
   "execution_count": 100,
   "metadata": {},
   "outputs": [],
   "source": [
    "rf = RandomForestClassifier(labelCol='churn', featuresCol='scaled_features', seed = 42)\n",
    "rf_start = time.time()\n",
    "rf_model = rf.fit(train)\n",
    "rf_end = time.time()"
   ]
  },
  {
   "cell_type": "code",
   "execution_count": 101,
   "metadata": {},
   "outputs": [
    {
     "name": "stdout",
     "output_type": "stream",
     "text": [
      "Random Forest Classifier performance metrics:\n",
      "F-1 Score: 0.703\n",
      "Accuracy: 0.765\n",
      "Total training time: 1.68 minutes\n"
     ]
    }
   ],
   "source": [
    "rf_results = rf_model.transform(test)\n",
    "\n",
    "rf_report = print_results(rf_results, 'Random Forest Classifier', rf_start, rf_end)"
   ]
  },
  {
   "cell_type": "markdown",
   "metadata": {},
   "source": [
    "### Hyperparameter Tuning"
   ]
  },
  {
   "cell_type": "code",
   "execution_count": 102,
   "metadata": {},
   "outputs": [],
   "source": [
    "pipeline = Pipeline(stages=[rf])\n",
    "rf_paramGrid = (ParamGridBuilder()\n",
    "             .addGrid(rf.numTrees, [10,20])\n",
    "             .addGrid(rf.maxDepth, [10,20])\n",
    "             .build())\n",
    "\n",
    "crossval_rf = CrossValidator(\n",
    "    estimator=pipeline,\n",
    "    estimatorParamMaps=rf_paramGrid,\n",
    "    evaluator=MulticlassClassificationEvaluator(labelCol='churn'),\n",
    "    numFolds=3)\n",
    "\n",
    "rf_start = time.time()\n",
    "rf_tunemodel = crossval_rf.fit(train)\n",
    "rf_end = time.time()"
   ]
  },
  {
   "cell_type": "code",
   "execution_count": 103,
   "metadata": {},
   "outputs": [
    {
     "name": "stdout",
     "output_type": "stream",
     "text": [
      "Random Forest Classifier performance metrics:\n",
      "F-1 Score: 0.629\n",
      "Accuracy: 0.706\n",
      "Total training time: 13.87 minutes\n",
      "Best number of trees 10, best depth 10\n"
     ]
    }
   ],
   "source": [
    "rf_tuned_results = rf_tunemodel.transform(test)\n",
    "\n",
    "rf_tuned_report = print_results(rf_tuned_results, 'Random Forest Classifier', rf_start, rf_end)\n",
    "\n",
    "best_param = list(rf_tunemodel.getEstimatorParamMaps()[np.argmax(rf_tunemodel.avgMetrics)].values())\n",
    "print('Best number of trees {}, best depth {}'.format(best_param[0], best_param[1]))"
   ]
  },
  {
   "cell_type": "markdown",
   "metadata": {},
   "source": [
    "### Support Vector Machine"
   ]
  },
  {
   "cell_type": "code",
   "execution_count": 104,
   "metadata": {},
   "outputs": [],
   "source": [
    "svc = LinearSVC(labelCol='churn', featuresCol='scaled_features')\n",
    "svc_start = time.time()\n",
    "svc_model = svc.fit(train)\n",
    "svc_end = time.time()"
   ]
  },
  {
   "cell_type": "code",
   "execution_count": 105,
   "metadata": {},
   "outputs": [
    {
     "name": "stdout",
     "output_type": "stream",
     "text": [
      "Support Vector Classifier performance metrics:\n",
      "F-1 Score: 0.584\n",
      "Accuracy: 0.706\n",
      "Total training time: 34.87 minutes\n"
     ]
    }
   ],
   "source": [
    "svc_results = svc_model.transform(test)\n",
    "\n",
    "svc_report = print_results(svc_results, 'Support Vector Classifier', svc_start, svc_end)"
   ]
  },
  {
   "cell_type": "code",
   "execution_count": 106,
   "metadata": {},
   "outputs": [],
   "source": [
    "# Hyperparameter tuning\n",
    "pipeline = Pipeline(stages=[svc])\n",
    "svc_paramGrid = (ParamGridBuilder()\n",
    "                 .addGrid(svc.maxIter, [5,10])\n",
    "                 .build())\n",
    "\n",
    "crossval_svc = CrossValidator(\n",
    "    estimator=pipeline,\n",
    "    estimatorParamMaps=svc_paramGrid,\n",
    "    evaluator=MulticlassClassificationEvaluator(labelCol='churn'),\n",
    "    numFolds=3)\n",
    "\n",
    "svc_start = time.time()\n",
    "svc_tunemodel = crossval_svc.fit(train)\n",
    "svc_end = time.time()"
   ]
  },
  {
   "cell_type": "code",
   "execution_count": 107,
   "metadata": {},
   "outputs": [
    {
     "name": "stdout",
     "output_type": "stream",
     "text": [
      "Support Vector Classifier performance metrics:\n",
      "F-1 Score: 0.584\n",
      "Accuracy: 0.706\n",
      "Total training time: 9.61 minutes\n",
      "Max no of Iterations:5\n"
     ]
    }
   ],
   "source": [
    "svc_tuned_results =svc_tunemodel.transform(test)\n",
    "\n",
    "svc_tuned_report = print_results(svc_tuned_results, 'Support Vector Classifier', svc_start, svc_end)\n",
    "\n",
    "best_param = list(svc_tunemodel.getEstimatorParamMaps()[np.argmax(svc_tunemodel.avgMetrics)].values())\n",
    "print('Max no of Iterations:{}'.format(best_param[0]))"
   ]
  },
  {
   "cell_type": "markdown",
   "metadata": {},
   "source": [
    "### Reports"
   ]
  },
  {
   "cell_type": "code",
   "execution_count": 108,
   "metadata": {},
   "outputs": [
    {
     "name": "stdout",
     "output_type": "stream",
     "text": [
      "Logistic Regression\n",
      "F1 Score: 0.584\n",
      "Accuracy: 0.706\n",
      "Total training time: 1.41 minutes\n",
      "\n",
      "Random Forest Classifier\n",
      "F1 Score: 0.703\n",
      "Accuracy: 0.765\n",
      "Total training time: 1.68 minutes\n",
      "\n",
      "Support Vector Classifier\n",
      "F1 Score: 0.584\n",
      "Accuracy: 0.706\n",
      "Total training time: 34.87 minutes\n",
      "\n"
     ]
    }
   ],
   "source": [
    "result_list = [lr_report, rf_report, svc_report]\n",
    "\n",
    "for res in result_list:\n",
    "    final_report(res)"
   ]
  },
  {
   "cell_type": "code",
   "execution_count": 109,
   "metadata": {},
   "outputs": [
    {
     "name": "stdout",
     "output_type": "stream",
     "text": [
      "Logistic Regression\n",
      "F1 Score: 0.584\n",
      "Accuracy: 0.706\n",
      "Total training time: 8.8 minutes\n",
      "\n",
      "Random Forest Classifier\n",
      "F1 Score: 0.629\n",
      "Accuracy: 0.706\n",
      "Total training time: 13.87 minutes\n",
      "\n",
      "Support Vector Classifier\n",
      "F1 Score: 0.584\n",
      "Accuracy: 0.706\n",
      "Total training time: 9.61 minutes\n",
      "\n"
     ]
    }
   ],
   "source": [
    "finetuned_result_list = [lr_tuned_report, rf_tuned_report, svc_tuned_report]\n",
    "\n",
    "for tune_res in finetuned_result_list:\n",
    "    final_report(tune_res)"
   ]
  },
  {
   "cell_type": "markdown",
   "metadata": {},
   "source": [
    "# Final Steps\n"
   ]
  },
  {
   "cell_type": "markdown",
   "metadata": {},
   "source": [
    "## Conclusion"
   ]
  },
  {
   "cell_type": "markdown",
   "metadata": {},
   "source": [
    "1.Out of three ML models, Random Forest Classifier proves to be best model both in terms of F1score and accuracy.\n",
    "\n",
    "2.Cross validation and hyperparameter tuning doesn't make much difference in output since the test dataset is a small subset of data.\n",
    "\n",
    "3.With the tuning, parameters of Random Forest Classifier are best number of trees-10 and max depth of 10 best fit the model.\n"
   ]
  },
  {
   "cell_type": "markdown",
   "metadata": {},
   "source": [
    "### Links for reference"
   ]
  },
  {
   "cell_type": "markdown",
   "metadata": {},
   "source": [
    "\n",
    "https://pandas.pydata.org/docs/reference/api/pandas.DataFrame.agg.html\n",
    "https://stackoverflow.com/questions/36697304/how-to-extract-model-hyper-parameters-from-spark-ml-in-pyspark\n",
    "https://spark.apache.org/docs/latest/api/python/reference/api/pyspark.ml.evaluation.MulticlassClassificationEvaluator.html\n",
    "https://spark.apache.org/docs/latest/api/python/reference/api/pyspark.ml.evaluation.BinaryClassificationEvaluator.html\n",
    "https://spark.apache.org/docs/latest/api/python/reference/api/pyspark.ml.classification.RandomForestClassifier.html#pyspark.ml.classification.RandomForestClassifier.numTrees\n",
    "https://spark.apache.org/docs/latest/api/python/reference/api/pyspark.ml.classification.LinearSVC.html"
   ]
  }
 ],
 "metadata": {
  "kernelspec": {
   "display_name": "Python 3",
   "language": "python",
   "name": "python3"
  },
  "language_info": {
   "codemirror_mode": {
    "name": "ipython",
    "version": 3
   },
   "file_extension": ".py",
   "mimetype": "text/x-python",
   "name": "python",
   "nbconvert_exporter": "python",
   "pygments_lexer": "ipython3",
   "version": "3.6.3"
  }
 },
 "nbformat": 4,
 "nbformat_minor": 2
}
